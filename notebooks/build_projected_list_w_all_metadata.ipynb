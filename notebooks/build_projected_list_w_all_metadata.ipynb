{
 "cells": [
  {
   "cell_type": "code",
   "execution_count": 1,
   "metadata": {},
   "outputs": [],
   "source": [
    "import pandas as pd\n",
    "from glob import glob"
   ]
  },
  {
   "cell_type": "code",
   "execution_count": 10,
   "metadata": {},
   "outputs": [],
   "source": [
    "def get_id(fname):\n",
    "    #../data/gov_files_projected\\\\proj_029ff553-4ea6-4163-bda1-79ff26b91813.csv\n",
    "    return fname.split(\"\\\\proj_\")[1].split(\".\")[0]"
   ]
  },
  {
   "cell_type": "code",
   "execution_count": 12,
   "metadata": {},
   "outputs": [],
   "source": [
    "def get_projected_files():\n",
    "    proj_pat = \"../data/gov_files_projected/*\"\n",
    "    proj_files = glob(proj_pat)\n",
    "    file_lst = [{'filename':p,\n",
    "                'id':get_id(p)} for p in proj_files]\n",
    "    return pd.DataFrame(file_lst)"
   ]
  },
  {
   "cell_type": "code",
   "execution_count": 17,
   "metadata": {},
   "outputs": [],
   "source": [
    "def get_meta():\n",
    "    meta_path = \"../data/inputs/needed_fields.csv\"\n",
    "    meta_df = pd.read_csv(meta_path, usecols=[\"resource\", \"id\", \"num_recs\", \"fields\", \"name\"])\n",
    "    return meta_df"
   ]
  },
  {
   "cell_type": "code",
   "execution_count": 18,
   "metadata": {},
   "outputs": [
    {
     "name": "stdout",
     "output_type": "stream",
     "text": [
      "<class 'pandas.core.frame.DataFrame'>\n",
      "Int64Index: 18 entries, 0 to 17\n",
      "Data columns (total 6 columns):\n",
      "filename    18 non-null object\n",
      "id          18 non-null object\n",
      "resource    18 non-null object\n",
      "name        18 non-null object\n",
      "num_recs    18 non-null int64\n",
      "fields      18 non-null object\n",
      "dtypes: int64(1), object(5)\n",
      "memory usage: 1008.0+ bytes\n",
      "None\n"
     ]
    }
   ],
   "source": [
    "proj_df = get_projected_files()\n",
    "meta_df = get_meta()\n",
    "both_df = pd.merge(proj_df, meta_df, on=[\"id\"])\n",
    "print(both_df.info())"
   ]
  },
  {
   "cell_type": "code",
   "execution_count": 19,
   "metadata": {},
   "outputs": [],
   "source": [
    "out_path = \"../data/inputs/meta_projected.csv\"\n",
    "both_df.to_csv(out_path, index=False)"
   ]
  },
  {
   "cell_type": "code",
   "execution_count": null,
   "metadata": {},
   "outputs": [],
   "source": []
  }
 ],
 "metadata": {
  "kernelspec": {
   "display_name": "Python 3",
   "language": "python",
   "name": "python3"
  },
  "language_info": {
   "codemirror_mode": {
    "name": "ipython",
    "version": 3
   },
   "file_extension": ".py",
   "mimetype": "text/x-python",
   "name": "python",
   "nbconvert_exporter": "python",
   "pygments_lexer": "ipython3",
   "version": "3.7.0"
  }
 },
 "nbformat": 4,
 "nbformat_minor": 2
}
