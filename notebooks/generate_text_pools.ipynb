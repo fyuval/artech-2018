{
 "cells": [
  {
   "cell_type": "code",
   "execution_count": 1,
   "metadata": {},
   "outputs": [
    {
     "data": {
      "text/plain": [
       "'\\nTransform six datasources into text pools and write them as utf text files\\n'"
      ]
     },
     "execution_count": 1,
     "metadata": {},
     "output_type": "execute_result"
    }
   ],
   "source": [
    "\"\"\"\n",
    "Transform six datasources into text pools and write them as utf text files\n",
    "\"\"\""
   ]
  },
  {
   "cell_type": "code",
   "execution_count": 2,
   "metadata": {},
   "outputs": [],
   "source": [
    "import pandas as pd\n",
    "from glob import glob"
   ]
  },
  {
   "cell_type": "code",
   "execution_count": 3,
   "metadata": {},
   "outputs": [],
   "source": [
    "ds_pat = \"C:/Users/dori/artech/artech-2018/data/gov_files/*.csv\"\n",
    "all_files = glob(ds_pat)"
   ]
  },
  {
   "cell_type": "code",
   "execution_count": 63,
   "metadata": {
    "scrolled": false
   },
   "outputs": [
    {
     "name": "stdout",
     "output_type": "stream",
     "text": [
      "C:/Users/dori/artech/artech-2018/data/gov_files\\f_be5b7935-3922-45d4-9638-08871b17ec95.csv\n",
      "   _id איזורי פעילות  כמות מתנדבים  כמות עובדים כתובת - ישוב  כתובת - מיקוד  \\\n",
      "0    1           NaN           NaN          NaN          NaN              0   \n",
      "1    2           NaN           NaN          NaN          NaN              0   \n",
      "2    3     [~הדרום~]          20.0         27.0         עומר          84965   \n",
      "3    4           NaN           NaN          NaN          NaN              0   \n",
      "4    5           NaN           NaN          NaN          NaN              0   \n",
      "\n",
      "   כתובת - מספר דירה  כתובת - רחוב  מחזור כספי  \\\n",
      "0                NaN           NaN         NaN   \n",
      "1                NaN           NaN         NaN   \n",
      "2                NaN           NaN   2471494.0   \n",
      "3                NaN           NaN         NaN   \n",
      "4                NaN           NaN         NaN   \n",
      "\n",
      "                                         מטרות עמותה  \\\n",
      "0  הענקת מלגות לתלמידי התואר השני והשלישי במכון ל...   \n",
      "1  מלגות לסטודנטים הלומדים בפקולטות למשפטים, רפוא...   \n",
      "2  העלאת מודעות האשה הבדואית בנגב למעמדה החברתי, ...   \n",
      "3  הרחבת השכלה,הכנסת כלה,ברית מילה,בר מצווה,לתורה...   \n",
      "4  הקמת מרכז לחקר וסיעוד חולי אלדסהיימר ברמת גן, ...   \n",
      "\n",
      "                ...                סטטוס עמותה  \\\n",
      "0               ...                      רשומה   \n",
      "1               ...                      רשומה   \n",
      "2               ...                      רשומה   \n",
      "3               ...                      רשומה   \n",
      "4               ...                      רשומה   \n",
      "\n",
      "                                   סיווג פעילות ענפי  שם אגודה עותומנית  \\\n",
      "0  [~התנדבות וקרנות פילנטרופיות~,~חינוך, השכלה וה...                NaN   \n",
      "1  [~התנדבות וקרנות פילנטרופיות~,~חינוך, השכלה וה...                NaN   \n",
      "2                                 [~תרבות או אמנות~]                NaN   \n",
      "3                                   [~שירותי רווחה~]                NaN   \n",
      "4                           [~מחקר, מדע וטכנולוגיה~]                NaN   \n",
      "\n",
      "   שם עמותה באנגלית                                    שם עמותה בעברית  \\\n",
      "0               NaN              קרן סלקום למלגות בתחום התקשורת והמחשב   \n",
      "1               NaN             פינקלשטיין רבקה ומשה ז~ל קרן מלגות ע~ש   \n",
      "2               NaN                                      סידרה  SIDREH   \n",
      "3               NaN                 ישראל ויקטוריה  הקדש עולמים על שמה   \n",
      "4               NaN  סטוצ'ינסקי סופי ואברהם ז~ל קרן לחולי אלדסהיימר...   \n",
      "\n",
      "   שנת דיווח דוח כספי אחרון  תאריך התחלה תוקף מטרות עמותה  \\\n",
      "0                         0                           NaN   \n",
      "1                         0                           NaN   \n",
      "2                      2016           2004-05-24T00:00:00   \n",
      "3                         0                           NaN   \n",
      "4                         0                           NaN   \n",
      "\n",
      "  תאריך עדכון אחרון של נתוני עמותה    תאריך רישום עמותה  \\\n",
      "0              2016-11-27T00:00:00  1999-05-08T00:00:00   \n",
      "1              2017-10-24T00:00:00  1999-01-08T00:00:00   \n",
      "2              2017-12-17T00:00:00  1997-12-06T00:00:00   \n",
      "3              2016-02-14T00:00:00  1999-01-08T00:00:00   \n",
      "4              2015-02-18T00:00:00  1999-07-28T00:00:00   \n",
      "\n",
      "                 תחום פעילות משני  \n",
      "0  [~מילגות לתלמידים ולסטודנטים~]  \n",
      "1  [~מילגות לתלמידים ולסטודנטים~]  \n",
      "2        תחום אחר - תרבות ואומנות  \n",
      "3                [~סיוע לנזקקים~]  \n",
      "4                   [~מחקר ומדע~]  \n",
      "\n",
      "[5 rows x 28 columns]\n",
      "['_id', 'איזורי פעילות', 'כמות מתנדבים', 'כמות עובדים', 'כתובת - ישוב', 'כתובת - מיקוד', 'כתובת - מספר דירה', 'כתובת - רחוב', 'מחזור כספי', 'מטרות עמותה', 'מספר עמותה', 'מען - ישוב', 'מען - מיקוד', 'מען - מיקוד תיבת דואר', 'מען - מספר דירה', 'מען - רחוב', 'מען - תיבת דואר', 'מקומות פעילות', 'סטטוס עמותה', 'סיווג פעילות ענפי', 'שם אגודה עותומנית', 'שם עמותה באנגלית', 'שם עמותה בעברית', 'שנת דיווח דוח כספי אחרון', 'תאריך התחלה תוקף מטרות עמותה', 'תאריך עדכון אחרון של נתוני עמותה', 'תאריך רישום עמותה', 'תחום פעילות משני']\n"
     ]
    },
    {
     "ename": "ValueError",
     "evalue": "Usecols do not match columns, columns expected but not found: ['street']",
     "output_type": "error",
     "traceback": [
      "\u001b[1;31m---------------------------------------------------------------------------\u001b[0m",
      "\u001b[1;31mValueError\u001b[0m                                Traceback (most recent call last)",
      "\u001b[1;32m<ipython-input-63-4a0486cf38fc>\u001b[0m in \u001b[0;36m<module>\u001b[1;34m()\u001b[0m\n\u001b[0;32m      4\u001b[0m \u001b[0mprint\u001b[0m\u001b[1;33m(\u001b[0m\u001b[0maa\u001b[0m\u001b[1;33m.\u001b[0m\u001b[0mhead\u001b[0m\u001b[1;33m(\u001b[0m\u001b[1;33m)\u001b[0m\u001b[1;33m)\u001b[0m\u001b[1;33m\u001b[0m\u001b[0m\n\u001b[0;32m      5\u001b[0m \u001b[0mprint\u001b[0m\u001b[1;33m(\u001b[0m\u001b[0maa\u001b[0m\u001b[1;33m.\u001b[0m\u001b[0mcolumns\u001b[0m\u001b[1;33m.\u001b[0m\u001b[0mtolist\u001b[0m\u001b[1;33m(\u001b[0m\u001b[1;33m)\u001b[0m\u001b[1;33m)\u001b[0m\u001b[1;33m\u001b[0m\u001b[0m\n\u001b[1;32m----> 6\u001b[1;33m \u001b[0mbb\u001b[0m \u001b[1;33m=\u001b[0m \u001b[0mpd\u001b[0m\u001b[1;33m.\u001b[0m\u001b[0mread_csv\u001b[0m\u001b[1;33m(\u001b[0m\u001b[0mchosen\u001b[0m\u001b[1;33m,\u001b[0m \u001b[0musecols\u001b[0m\u001b[1;33m=\u001b[0m\u001b[1;33m[\u001b[0m\u001b[1;34m'street'\u001b[0m\u001b[1;33m]\u001b[0m\u001b[1;33m)\u001b[0m\u001b[1;33m\u001b[0m\u001b[0m\n\u001b[0m\u001b[0;32m      7\u001b[0m \u001b[0mprint\u001b[0m\u001b[1;33m(\u001b[0m\u001b[0mbb\u001b[0m\u001b[1;33m.\u001b[0m\u001b[0minfo\u001b[0m\u001b[1;33m(\u001b[0m\u001b[1;33m)\u001b[0m\u001b[1;33m)\u001b[0m\u001b[1;33m\u001b[0m\u001b[0m\n\u001b[0;32m      8\u001b[0m \u001b[1;31m#print(aa.info())\u001b[0m\u001b[1;33m\u001b[0m\u001b[1;33m\u001b[0m\u001b[0m\n",
      "\u001b[1;32m~\\Anaconda3\\lib\\site-packages\\pandas\\io\\parsers.py\u001b[0m in \u001b[0;36mparser_f\u001b[1;34m(filepath_or_buffer, sep, delimiter, header, names, index_col, usecols, squeeze, prefix, mangle_dupe_cols, dtype, engine, converters, true_values, false_values, skipinitialspace, skiprows, nrows, na_values, keep_default_na, na_filter, verbose, skip_blank_lines, parse_dates, infer_datetime_format, keep_date_col, date_parser, dayfirst, iterator, chunksize, compression, thousands, decimal, lineterminator, quotechar, quoting, escapechar, comment, encoding, dialect, tupleize_cols, error_bad_lines, warn_bad_lines, skipfooter, doublequote, delim_whitespace, low_memory, memory_map, float_precision)\u001b[0m\n\u001b[0;32m    676\u001b[0m                     skip_blank_lines=skip_blank_lines)\n\u001b[0;32m    677\u001b[0m \u001b[1;33m\u001b[0m\u001b[0m\n\u001b[1;32m--> 678\u001b[1;33m         \u001b[1;32mreturn\u001b[0m \u001b[0m_read\u001b[0m\u001b[1;33m(\u001b[0m\u001b[0mfilepath_or_buffer\u001b[0m\u001b[1;33m,\u001b[0m \u001b[0mkwds\u001b[0m\u001b[1;33m)\u001b[0m\u001b[1;33m\u001b[0m\u001b[0m\n\u001b[0m\u001b[0;32m    679\u001b[0m \u001b[1;33m\u001b[0m\u001b[0m\n\u001b[0;32m    680\u001b[0m     \u001b[0mparser_f\u001b[0m\u001b[1;33m.\u001b[0m\u001b[0m__name__\u001b[0m \u001b[1;33m=\u001b[0m \u001b[0mname\u001b[0m\u001b[1;33m\u001b[0m\u001b[0m\n",
      "\u001b[1;32m~\\Anaconda3\\lib\\site-packages\\pandas\\io\\parsers.py\u001b[0m in \u001b[0;36m_read\u001b[1;34m(filepath_or_buffer, kwds)\u001b[0m\n\u001b[0;32m    438\u001b[0m \u001b[1;33m\u001b[0m\u001b[0m\n\u001b[0;32m    439\u001b[0m     \u001b[1;31m# Create the parser.\u001b[0m\u001b[1;33m\u001b[0m\u001b[1;33m\u001b[0m\u001b[0m\n\u001b[1;32m--> 440\u001b[1;33m     \u001b[0mparser\u001b[0m \u001b[1;33m=\u001b[0m \u001b[0mTextFileReader\u001b[0m\u001b[1;33m(\u001b[0m\u001b[0mfilepath_or_buffer\u001b[0m\u001b[1;33m,\u001b[0m \u001b[1;33m**\u001b[0m\u001b[0mkwds\u001b[0m\u001b[1;33m)\u001b[0m\u001b[1;33m\u001b[0m\u001b[0m\n\u001b[0m\u001b[0;32m    441\u001b[0m \u001b[1;33m\u001b[0m\u001b[0m\n\u001b[0;32m    442\u001b[0m     \u001b[1;32mif\u001b[0m \u001b[0mchunksize\u001b[0m \u001b[1;32mor\u001b[0m \u001b[0miterator\u001b[0m\u001b[1;33m:\u001b[0m\u001b[1;33m\u001b[0m\u001b[0m\n",
      "\u001b[1;32m~\\Anaconda3\\lib\\site-packages\\pandas\\io\\parsers.py\u001b[0m in \u001b[0;36m__init__\u001b[1;34m(self, f, engine, **kwds)\u001b[0m\n\u001b[0;32m    785\u001b[0m             \u001b[0mself\u001b[0m\u001b[1;33m.\u001b[0m\u001b[0moptions\u001b[0m\u001b[1;33m[\u001b[0m\u001b[1;34m'has_index_names'\u001b[0m\u001b[1;33m]\u001b[0m \u001b[1;33m=\u001b[0m \u001b[0mkwds\u001b[0m\u001b[1;33m[\u001b[0m\u001b[1;34m'has_index_names'\u001b[0m\u001b[1;33m]\u001b[0m\u001b[1;33m\u001b[0m\u001b[0m\n\u001b[0;32m    786\u001b[0m \u001b[1;33m\u001b[0m\u001b[0m\n\u001b[1;32m--> 787\u001b[1;33m         \u001b[0mself\u001b[0m\u001b[1;33m.\u001b[0m\u001b[0m_make_engine\u001b[0m\u001b[1;33m(\u001b[0m\u001b[0mself\u001b[0m\u001b[1;33m.\u001b[0m\u001b[0mengine\u001b[0m\u001b[1;33m)\u001b[0m\u001b[1;33m\u001b[0m\u001b[0m\n\u001b[0m\u001b[0;32m    788\u001b[0m \u001b[1;33m\u001b[0m\u001b[0m\n\u001b[0;32m    789\u001b[0m     \u001b[1;32mdef\u001b[0m \u001b[0mclose\u001b[0m\u001b[1;33m(\u001b[0m\u001b[0mself\u001b[0m\u001b[1;33m)\u001b[0m\u001b[1;33m:\u001b[0m\u001b[1;33m\u001b[0m\u001b[0m\n",
      "\u001b[1;32m~\\Anaconda3\\lib\\site-packages\\pandas\\io\\parsers.py\u001b[0m in \u001b[0;36m_make_engine\u001b[1;34m(self, engine)\u001b[0m\n\u001b[0;32m   1012\u001b[0m     \u001b[1;32mdef\u001b[0m \u001b[0m_make_engine\u001b[0m\u001b[1;33m(\u001b[0m\u001b[0mself\u001b[0m\u001b[1;33m,\u001b[0m \u001b[0mengine\u001b[0m\u001b[1;33m=\u001b[0m\u001b[1;34m'c'\u001b[0m\u001b[1;33m)\u001b[0m\u001b[1;33m:\u001b[0m\u001b[1;33m\u001b[0m\u001b[0m\n\u001b[0;32m   1013\u001b[0m         \u001b[1;32mif\u001b[0m \u001b[0mengine\u001b[0m \u001b[1;33m==\u001b[0m \u001b[1;34m'c'\u001b[0m\u001b[1;33m:\u001b[0m\u001b[1;33m\u001b[0m\u001b[0m\n\u001b[1;32m-> 1014\u001b[1;33m             \u001b[0mself\u001b[0m\u001b[1;33m.\u001b[0m\u001b[0m_engine\u001b[0m \u001b[1;33m=\u001b[0m \u001b[0mCParserWrapper\u001b[0m\u001b[1;33m(\u001b[0m\u001b[0mself\u001b[0m\u001b[1;33m.\u001b[0m\u001b[0mf\u001b[0m\u001b[1;33m,\u001b[0m \u001b[1;33m**\u001b[0m\u001b[0mself\u001b[0m\u001b[1;33m.\u001b[0m\u001b[0moptions\u001b[0m\u001b[1;33m)\u001b[0m\u001b[1;33m\u001b[0m\u001b[0m\n\u001b[0m\u001b[0;32m   1015\u001b[0m         \u001b[1;32melse\u001b[0m\u001b[1;33m:\u001b[0m\u001b[1;33m\u001b[0m\u001b[0m\n\u001b[0;32m   1016\u001b[0m             \u001b[1;32mif\u001b[0m \u001b[0mengine\u001b[0m \u001b[1;33m==\u001b[0m \u001b[1;34m'python'\u001b[0m\u001b[1;33m:\u001b[0m\u001b[1;33m\u001b[0m\u001b[0m\n",
      "\u001b[1;32m~\\Anaconda3\\lib\\site-packages\\pandas\\io\\parsers.py\u001b[0m in \u001b[0;36m__init__\u001b[1;34m(self, src, **kwds)\u001b[0m\n\u001b[0;32m   1747\u001b[0m             if (self.usecols_dtype == 'string' and\n\u001b[0;32m   1748\u001b[0m                     not set(usecols).issubset(self.orig_names)):\n\u001b[1;32m-> 1749\u001b[1;33m                 \u001b[0m_validate_usecols_names\u001b[0m\u001b[1;33m(\u001b[0m\u001b[0musecols\u001b[0m\u001b[1;33m,\u001b[0m \u001b[0mself\u001b[0m\u001b[1;33m.\u001b[0m\u001b[0morig_names\u001b[0m\u001b[1;33m)\u001b[0m\u001b[1;33m\u001b[0m\u001b[0m\n\u001b[0m\u001b[0;32m   1750\u001b[0m \u001b[1;33m\u001b[0m\u001b[0m\n\u001b[0;32m   1751\u001b[0m             \u001b[1;32mif\u001b[0m \u001b[0mlen\u001b[0m\u001b[1;33m(\u001b[0m\u001b[0mself\u001b[0m\u001b[1;33m.\u001b[0m\u001b[0mnames\u001b[0m\u001b[1;33m)\u001b[0m \u001b[1;33m>\u001b[0m \u001b[0mlen\u001b[0m\u001b[1;33m(\u001b[0m\u001b[0musecols\u001b[0m\u001b[1;33m)\u001b[0m\u001b[1;33m:\u001b[0m\u001b[1;33m\u001b[0m\u001b[0m\n",
      "\u001b[1;32m~\\Anaconda3\\lib\\site-packages\\pandas\\io\\parsers.py\u001b[0m in \u001b[0;36m_validate_usecols_names\u001b[1;34m(usecols, names)\u001b[0m\n\u001b[0;32m   1132\u001b[0m         raise ValueError(\n\u001b[0;32m   1133\u001b[0m             \u001b[1;34m\"Usecols do not match columns, \"\u001b[0m\u001b[1;33m\u001b[0m\u001b[0m\n\u001b[1;32m-> 1134\u001b[1;33m             \u001b[1;34m\"columns expected but not found: {missing}\"\u001b[0m\u001b[1;33m.\u001b[0m\u001b[0mformat\u001b[0m\u001b[1;33m(\u001b[0m\u001b[0mmissing\u001b[0m\u001b[1;33m=\u001b[0m\u001b[0mmissing\u001b[0m\u001b[1;33m)\u001b[0m\u001b[1;33m\u001b[0m\u001b[0m\n\u001b[0m\u001b[0;32m   1135\u001b[0m         )\n\u001b[0;32m   1136\u001b[0m \u001b[1;33m\u001b[0m\u001b[0m\n",
      "\u001b[1;31mValueError\u001b[0m: Usecols do not match columns, columns expected but not found: ['street']"
     ]
    }
   ],
   "source": [
    "chosen = all_files[17]\n",
    "aa = pd.read_csv(chosen, nrows=5)\n",
    "print(chosen)\n",
    "print(aa.head())\n",
    "print(aa.columns.tolist())\n",
    "bb = pd.read_csv(chosen, usecols=['street'])\n",
    "print(bb.info())\n",
    "#print(aa.info())"
   ]
  },
  {
   "cell_type": "code",
   "execution_count": 30,
   "metadata": {},
   "outputs": [],
   "source": [
    "count = 1\n",
    "path = \"C:/Users/dori/artech/artech-2018/data/gov_files/f_029ff553-4ea6-4163-bda1-79ff26b91813.csv\"\n",
    "cols = [3,4,2]\n",
    "df = pd.read_csv(path, usecols=cols)\n",
    "df.loc[:, \"full\"] = df.iloc[:,0:3].apply(lambda x: ' '.join(x), axis=1)\n",
    "out_path = \"../data/text_pools/pool0.csv\"\n",
    "df.to_csv(out_path, columns=[\"full\"], index=False)"
   ]
  },
  {
   "cell_type": "code",
   "execution_count": 32,
   "metadata": {},
   "outputs": [],
   "source": [
    "def remove_html_tags(text):\n",
    "    \"\"\"Remove html tags from a string\"\"\"\n",
    "    import re\n",
    "    clean = re.compile('<.*?>')\n",
    "    return re.sub(clean, '', text)"
   ]
  },
  {
   "cell_type": "code",
   "execution_count": 34,
   "metadata": {},
   "outputs": [],
   "source": [
    "count = 1\n",
    "path = \"C:/Users/dori/artech/artech-2018/data/gov_files/f_07fc9ed5-1ac6-4752-a8c3-90781b3369ad.csv\"\n",
    "cols = ['FullDescription']\n",
    "#df = pd.read_csv(path, usecols=cols)\n",
    "df = pd.read_csv(path, usecols=[\"FullDescription\"]).dropna()\n",
    "df.loc[:, \"full\"] = df.FullDescription.apply(lambda v: remove_html_tags(v))\n",
    "#df.loc[:, \"full\"] = df.iloc[:,0:3].apply(lambda x: ' '.join(x), axis=1)\n",
    "out_path = \"../data/text_pools/pool1.csv\"\n",
    "df.to_csv(out_path, columns=[\"full\"], index=False)"
   ]
  },
  {
   "cell_type": "code",
   "execution_count": 40,
   "metadata": {},
   "outputs": [],
   "source": [
    "path = \"C:/Users/dori/artech/artech-2018/data/gov_files/f_1b14e41c-85b3-4c21-bdce-9fe48185ffca.csv\"\n",
    "cols = ['city_name', 'street_name']\n",
    "#df = pd.read_csv(path, usecols=cols)\n",
    "df = pd.read_csv(path, usecols=cols).dropna()\n",
    "#df.loc[:, \"full\"] = df.FullDescription.apply(lambda v: remove_html_tags(v))\n",
    "df.loc[:, \"full\"] = df.iloc[:,0:2].apply(lambda x: ' '.join(x), axis=1)\n",
    "out_path = \"../data/text_pools/pool2.csv\"\n",
    "df.to_csv(out_path, columns=[\"full\"], index=False)"
   ]
  },
  {
   "cell_type": "code",
   "execution_count": 54,
   "metadata": {},
   "outputs": [],
   "source": [
    "path = \"C:/Users/dori/artech/artech-2018/data/gov_files/f_969e229c-033e-4a97-b843-b1b2bc77e6c8.csv\"\n",
    "cols = ['שם מוסד']\n",
    "#df = pd.read_csv(path, usecols=cols)\n",
    "df = pd.read_csv(path, usecols=cols).dropna()\n",
    "#df.loc[:, \"full\"] = df.FullDescription.apply(lambda v: remove_html_tags(v))\n",
    "df.loc[:, \"full\"] = df.iloc[:,0:1].apply(lambda x: ' '.join(x), axis=1)\n",
    "out_path = \"../data/text_pools/pool3.csv\"\n",
    "df.to_csv(out_path, columns=[\"full\"], index=False)"
   ]
  },
  {
   "cell_type": "code",
   "execution_count": 58,
   "metadata": {},
   "outputs": [],
   "source": [
    "#df = pd.read_csv(path, usecols=cols)\n",
    "cols = ['התמחות המתכנן', 'רחוב', 'שם יישוב', 'שם ספק', 'תת התמחות המתחנן']\n",
    "df = pd.read_csv(chosen, usecols=cols).dropna()\n",
    "#df.loc[:, \"full\"] = df.FullDescription.apply(lambda v: remove_html_tags(v))\n",
    "df.loc[:, \"full\"] = df.iloc[:,0:6].apply(lambda x: ' '.join(x), axis=1)\n",
    "out_path = \"../data/text_pools/pool4.csv\"\n",
    "df.to_csv(out_path, columns=[\"full\"], index=False)"
   ]
  },
  {
   "cell_type": "code",
   "execution_count": 64,
   "metadata": {},
   "outputs": [],
   "source": [
    "cols = ['כתובת - ישוב',\n",
    "     'מטרות עמותה',\n",
    " 'סיווג פעילות ענפי',\n",
    " 'שם עמותה בעברית',\n",
    " 'תחום פעילות משני']\n",
    "df = pd.read_csv(chosen, usecols=cols).dropna()\n",
    "#df.loc[:, \"full\"] = df.FullDescription.apply(lambda v: remove_html_tags(v))\n",
    "df.loc[:, \"full\"] = df.iloc[:,0:5].apply(lambda x: ' '.join(x), axis=1)\n",
    "out_path = \"../data/text_pools/pool5.csv\"\n",
    "df.to_csv(out_path, columns=[\"full\"], index=False)"
   ]
  },
  {
   "cell_type": "code",
   "execution_count": null,
   "metadata": {},
   "outputs": [],
   "source": []
  }
 ],
 "metadata": {
  "kernelspec": {
   "display_name": "Python 3",
   "language": "python",
   "name": "python3"
  },
  "language_info": {
   "codemirror_mode": {
    "name": "ipython",
    "version": 3
   },
   "file_extension": ".py",
   "mimetype": "text/x-python",
   "name": "python",
   "nbconvert_exporter": "python",
   "pygments_lexer": "ipython3",
   "version": "3.7.0"
  }
 },
 "nbformat": 4,
 "nbformat_minor": 2
}
