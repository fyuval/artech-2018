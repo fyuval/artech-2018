{
 "cells": [
  {
   "cell_type": "code",
   "execution_count": 1,
   "metadata": {},
   "outputs": [
    {
     "data": {
      "text/plain": [
       "'\\nCompare desired file list with actual files\\n'"
      ]
     },
     "execution_count": 1,
     "metadata": {},
     "output_type": "execute_result"
    }
   ],
   "source": [
    "\"\"\"\n",
    "Compare desired file list with actual files\n",
    "\"\"\""
   ]
  },
  {
   "cell_type": "code",
   "execution_count": 2,
   "metadata": {},
   "outputs": [],
   "source": [
    "import pandas as pd\n",
    "from glob import glob"
   ]
  },
  {
   "cell_type": "code",
   "execution_count": 3,
   "metadata": {},
   "outputs": [],
   "source": [
    "def get_desired_df():\n",
    "    desired_path = \"../data/inputs/chosen_dataset_urls.xlsx\"\n",
    "    desired_df = pd.read_excel(desired_path)/mb\n",
    "    return desired_df"
   ]
  },
  {
   "cell_type": "code",
   "execution_count": 20,
   "metadata": {},
   "outputs": [],
   "source": [
    "def get_existing_list():\n",
    "    pat = \"../data/gov_files/*.csv\"\n",
    "    file_list = glob(pat)\n",
    "    id_list = [(f[:-4]).split(\"_\")[2] for f in file_list]\n",
    "    return set(id_list)https://xnet.ynet.co.il/articles/0,7340,L-5176507,00.html"
   ]
  },
  {
   "cell_type": "code",
   "execution_count": 28,
   "metadata": {},
   "outputs": [
    {
     "name": "stdout",
     "output_type": "stream",
     "text": [
      "                                         resource  \\\n",
      "9                              מתקני ספורט בישראל   \n",
      "14           מאגר סימני מסחר 1900-1989 בפורמט csv   \n",
      "15                     נתוני איכות אוויר בזמן אמת   \n",
      "16  שקיפות תקציבית גני ילדים לפי אשכול למ\"ס תשע\"ו   \n",
      "18                          גני ילדים ירוקים 2016   \n",
      "24                                    פטנטים 1989   \n",
      "\n",
      "                                      id  \\\n",
      "9   f8dbd3ed-2c62-4d0e-bbaa-b6a15a0e5f7d   \n",
      "14  57a8c1b0-c18b-4fc4-b409-b9f8fded7d55   \n",
      "15  11df415a-f69c-43ef-8906-9efdacd58e57   \n",
      "16  8f85ffa4-a0c7-44a7-b2ee-5477ede26616   \n",
      "18  57064159-d2d1-48a0-9fb1-b3439a1ae2b0   \n",
      "24  576330b6-f630-48ae-bc84-2f46140e86ec   \n",
      "\n",
      "                                                  url  exists  \n",
      "9   https://data.gov.il/api/action/datastore_searc...       0  \n",
      "14  https://data.gov.il/api/action/datastore_searc...       0  \n",
      "15  https://data.gov.il/api/action/datastore_searc...       0  \n",
      "16  https://data.gov.il/api/action/datastore_searc...       0  \n",
      "18  https://data.gov.il/api/action/datastore_searc...       0  \n",
      "24  https://data.gov.il/api/action/datastore_searc...       0  \n"
     ]
    }
   ],
   "source": [
    "df = get_desired_df()\n",
    "id_set = get_existing_list()\n",
    "df.loc[:,\"exists\"] = df[\"id\"].apply(lambda v:1 if v in id_set else 0)\n",
    "print(df[df.exists==0])"
   ]
  },
  {
   "cell_type": "code",
   "execution_count": null,
   "metadata": {},
   "outputs": [],
   "source": []
  }
 ],
 "metadata": {
  "kernelspec": {
   "display_name": "Python 3",
   "language": "python",
   "name": "python3"
  },
  "language_info": {
   "codemirror_mode": {
    "name": "ipython",
    "version": 3
   },
   "file_extension": ".py",
   "mimetype": "text/x-python",
   "name": "python",
   "nbconvert_exporter": "python",
   "pygments_lexer": "ipython3",
   "version": "3.7.0"
  }
 },
 "nbformat": 4,
 "nbformat_minor": 2
}
