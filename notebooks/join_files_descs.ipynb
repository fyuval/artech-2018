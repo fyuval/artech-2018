{
 "cells": [
  {
   "cell_type": "code",
   "execution_count": 1,
   "metadata": {},
   "outputs": [
    {
     "data": {
      "text/plain": [
       "'\\njoin file names to their descriptions\\n'"
      ]
     },
     "execution_count": 1,
     "metadata": {},
     "output_type": "execute_result"
    }
   ],
   "source": [
    "\"\"\"\n",
    "join file names to their descriptions\n",
    "\"\"\""
   ]
  },
  {
   "cell_type": "code",
   "execution_count": 2,
   "metadata": {},
   "outputs": [],
   "source": [
    "import pandas as pd"
   ]
  },
  {
   "cell_type": "code",
   "execution_count": 10,
   "metadata": {},
   "outputs": [],
   "source": [
    "chosen_path = \"../data/inputs/chosen_dataset_urls.xlsx\"\n",
    "chosen_df = pd.read_excel(chosen_path)\n",
    "sizes_path = \"../data/inputs/sizes.csv\"\n",
    "sizes_df = pd.read_csv(sizes_path)\n",
    "chosen_df.loc[:, \"name\"] = chosen_df.id.apply(lambda cur_id : ''.join([\"../data/gov_files\\\\f_\", cur_id, \".csv\"]))\n",
    "both_df = pd.merge(chosen_df, sizes_df, on=\"name\")\n",
    "both_df.to_csv(\"../data/inputs/names_w_descs.csv\", index=False)                                            "
   ]
  },
  {
   "cell_type": "code",
   "execution_count": null,
   "metadata": {},
   "outputs": [],
   "source": []
  }
 ],
 "metadata": {
  "kernelspec": {
   "display_name": "Python 3",
   "language": "python",
   "name": "python3"
  },
  "language_info": {
   "codemirror_mode": {
    "name": "ipython",
    "version": 3
   },
   "file_extension": ".py",
   "mimetype": "text/x-python",
   "name": "python",
   "nbconvert_exporter": "python",
   "pygments_lexer": "ipython3",
   "version": "3.7.0"
  }
 },
 "nbformat": 4,
 "nbformat_minor": 2
}
