{
 "cells": [
  {
   "cell_type": "code",
   "execution_count": 3,
   "metadata": {},
   "outputs": [
    {
     "data": {
      "text/plain": [
       "'\\nSave the files we want from data gov il\\n'"
      ]
     },
     "execution_count": 3,
     "metadata": {},
     "output_type": "execute_result"
    }
   ],
   "source": [
    "\"\"\"\n",
    "Save the files we want from data gov il\n",
    "\"\"\""
   ]
  },
  {
   "cell_type": "code",
   "execution_count": 4,
   "metadata": {},
   "outputs": [],
   "source": [
    "import pandas as pd\n",
    "import requests\n",
    "from time import sleep"
   ]
  },
  {
   "cell_type": "code",
   "execution_count": 9,
   "metadata": {},
   "outputs": [],
   "source": [
    "def get_path(ds_id):\n",
    "    prefix = 'C:/Users/dori/artech/artech-2018/data/gov_files/f_'\n",
    "    suffix = \".csv\"\n",
    "    return ''.join([prefix, ds_id, suffix])"
   ]
  },
  {
   "cell_type": "code",
   "execution_count": 10,
   "metadata": {},
   "outputs": [],
   "source": [
    "def get_and_save_file(ds_id, res_name):\n",
    "    print(\"reading {}\".format(res_name))\n",
    "    sleep(10)\n",
    "    params={'resource_id': ds_id,\n",
    "            'limit': 1000000,\n",
    "        }\n",
    "    url = 'https://data.gov.il/api/action/datastore_search'\n",
    "    r = requests.get(url, params=params).json()\n",
    "    df = pd.DataFrame(r['result']['records'])\n",
    "    print(\"-----------------\")\n",
    "    print(df.head())\n",
    "    file_path = get_path(ds_id)\n",
    "    df.to_csv(file_path, index=False)\n",
    "    "
   ]
  },
  {
   "cell_type": "code",
   "execution_count": 11,
   "metadata": {},
   "outputs": [],
   "source": [
    "# def get_url(row):\n",
    "#     prefix = \"https://data.gov.il/api/action/datastore_search?resource_id=\"\n",
    "#     suffix = \"&limit=1000000\"\n",
    "#     return ''.join([prefix, row[\"מזהה\"], suffix])"
   ]
  },
  {
   "cell_type": "code",
   "execution_count": 29,
   "metadata": {},
   "outputs": [
    {
     "name": "stdout",
     "output_type": "stream",
     "text": [
      "                                        resource  \\\n",
      "0                               אטרקציות - עברית   \n",
      "1                     Cities In Israel - English   \n",
      "2                          רשימת מודדים ומתכננים   \n",
      "3                                  עמותות רשומות   \n",
      "4  נתוני הערכת גדילה של תלמידים בישראל לשנת 2016   \n",
      "\n",
      "                                     id  \\\n",
      "0  07fc9ed5-1ac6-4752-a8c3-90781b3369ad   \n",
      "1  2999f194-8c11-4771-938f-d57ccd073f62   \n",
      "2  a8ca5203-7adc-4bc1-a0ed-3fd4eaa74dcc   \n",
      "3  be5b7935-3922-45d4-9638-08871b17ec95   \n",
      "4  2c181d7b-be3a-41be-a99a-7228eccb665b   \n",
      "\n",
      "                                                 url  \n",
      "0  https://data.gov.il/api/action/datastore_searc...  \n",
      "1  https://data.gov.il/api/action/datastore_searc...  \n",
      "2  https://data.gov.il/api/action/datastore_searc...  \n",
      "3  https://data.gov.il/api/action/datastore_searc...  \n",
      "4  https://data.gov.il/api/action/datastore_searc...  \n"
     ]
    }
   ],
   "source": [
    "id_path = \"C:/Users/dori/artech/artech-2018/data/chosen_dataset_urls.xlsx\"\n",
    "id_df = pd.read_excel(id_path)\n",
    "print(id_df.head())\n",
    "for _idx, row in id_df[25:].iterrows():\n",
    "    get_and_save_file(row[\"id\"], row[\"resource\"])"
   ]
  },
  {
   "cell_type": "code",
   "execution_count": null,
   "metadata": {},
   "outputs": [],
   "source": []
  }
 ],
 "metadata": {
  "kernelspec": {
   "display_name": "Python 3",
   "language": "python",
   "name": "python3"
  },
  "language_info": {
   "codemirror_mode": {
    "name": "ipython",
    "version": 3
   },
   "file_extension": ".py",
   "mimetype": "text/x-python",
   "name": "python",
   "nbconvert_exporter": "python",
   "pygments_lexer": "ipython3",
   "version": "3.7.0"
  }
 },
 "nbformat": 4,
 "nbformat_minor": 2
}
