{
 "cells": [
  {
   "cell_type": "code",
   "execution_count": 4,
   "metadata": {},
   "outputs": [
    {
     "data": {
      "text/plain": [
       "'\\nGet data from IAMDATA (Responses) and turn it into a long string\\n'"
      ]
     },
     "execution_count": 4,
     "metadata": {},
     "output_type": "execute_result"
    }
   ],
   "source": [
    "\"\"\"\n",
    "Get data from IAMDATA (Responses) and turn it into a long string\n",
    "\"\"\""
   ]
  },
  {
   "cell_type": "code",
   "execution_count": 5,
   "metadata": {
    "collapsed": true
   },
   "outputs": [],
   "source": [
    "from __future__ import print_function\n",
    "import gspread\n",
    "from oauth2client.service_account import ServiceAccountCredentials\n",
    "import pandas as pd\n",
    "import json"
   ]
  },
  {
   "cell_type": "code",
   "execution_count": 7,
   "metadata": {
    "collapsed": true
   },
   "outputs": [],
   "source": [
    "def get_client():\n",
    "    scope = ['https://spreadsheets.google.com/feeds',\n",
    "             'https://www.googleapis.com/auth/drive']\n",
    "    creds = ServiceAccountCredentials.from_json_keyfile_name('../creds/client_secret.json', scope)\n",
    "    client = gspread.authorize(creds)\n",
    "    return client"
   ]
  },
  {
   "cell_type": "code",
   "execution_count": 31,
   "metadata": {},
   "outputs": [],
   "source": [
    "def get_response_df():\n",
    "    client = get_client()\n",
    "    # print(\"The following sheets are available\")\n",
    "    # for sheet in client.openall():\n",
    "    #     print(\"{} - {}\".format(sheet.title, sheet.id))\n",
    "\n",
    "    sheet = client.open(\"IAMDATA (Responses)\").sheet1\n",
    "    df = pd.DataFrame(sheet.get_all_records())\n",
    "    #print(df.columns)\n",
    "\n",
    "\n",
    "    # Do some minor cleanups on the data\n",
    "    # Rename the columns to make it easier to manipulate\n",
    "    # The data comes in through a dictionary so we can not assume order stays the\n",
    "    # same so must name each column\n",
    "    column_names = {'Timestamp': 'timestamp',\n",
    "                    'Email Address':'email',\n",
    "                    'אם היית יום בשבוע איזה יום היית?':'day',\n",
    "                    'בחנ/י את התמונות היטב למשך 30 שניות, מה מהן מתארת אותך בצורה הטובה ביותר':'rorshach',\n",
    "                    'גובה':'height', \n",
    "                    'חשוב על מספר בין 14 ל 53 רשום את הצבע הראשון העולה בדעתך':'color',\n",
    "                    'צלמ/י את עצמך או הוספ/י תמונת פורטרט ':'photo',\n",
    "                    'שם משפחה':'surname', \n",
    "                    'שם פרטי':'first_name',\n",
    "                    'שתי הספרות האחרונות של מספר הטלפון הנייד':'cell'}\n",
    "    df.rename(columns=column_names, inplace=True)\n",
    "    df.timestamp = pd.to_datetime(df.timestamp)\n",
    "    return df"
   ]
  },
  {
   "cell_type": "code",
   "execution_count": 32,
   "metadata": {},
   "outputs": [
    {
     "name": "stdout",
     "output_type": "stream",
     "text": [
      "dorior@gmail.comרביעיb170YarojOryanDori58\n",
      "fyuval@gmail.comרביעיd180purpleFeinsteinYuval45\n"
     ]
    }
   ],
   "source": [
    "df = get_response_df()  \n",
    "chosen_cols = [col for col in df.columns if col not in ['timestamp','photo']]\n",
    "\n",
    "for _idx, row in df.iterrows():\n",
    "    chosen_vals = [str(v) for v in row[chosen_cols].values]\n",
    "    s = ''.join(chosen_vals)\n",
    "    print(s)\n",
    "#print(''.join(df.loc[:, chosen_cols]))"
   ]
  },
  {
   "cell_type": "code",
   "execution_count": null,
   "metadata": {
    "collapsed": true
   },
   "outputs": [],
   "source": []
  }
 ],
 "metadata": {
  "kernelspec": {
   "display_name": "Python [conda env:py36]",
   "language": "python",
   "name": "conda-env-py36-py"
  },
  "language_info": {
   "codemirror_mode": {
    "name": "ipython",
    "version": 3
   },
   "file_extension": ".py",
   "mimetype": "text/x-python",
   "name": "python",
   "nbconvert_exporter": "python",
   "pygments_lexer": "ipython3",
   "version": "3.6.6"
  }
 },
 "nbformat": 4,
 "nbformat_minor": 2
}
