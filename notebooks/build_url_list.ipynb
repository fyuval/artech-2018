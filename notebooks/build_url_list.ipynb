{
 "cells": [
  {
   "cell_type": "code",
   "execution_count": 1,
   "metadata": {},
   "outputs": [
    {
     "data": {
      "text/plain": [
       "'\\nGo over the files we want and build a URL list for CIO gov il\\n'"
      ]
     },
     "execution_count": 1,
     "metadata": {},
     "output_type": "execute_result"
    }
   ],
   "source": [
    "\"\"\"\n",
    "Go over the files we want and build a URL list for CIO gov il\n",
    "\"\"\""
   ]
  },
  {
   "cell_type": "code",
   "execution_count": 2,
   "metadata": {
    "collapsed": true
   },
   "outputs": [],
   "source": [
    "import pandas as pd\n",
    "import requests"
   ]
  },
  {
   "cell_type": "code",
   "execution_count": 19,
   "metadata": {
    "collapsed": true
   },
   "outputs": [],
   "source": [
    "def get_file_df():\n",
    "    file_list_path = \"../data/inputs/chosen_datasets.csv\"\n",
    "    df = pd.read_csv(file_list_path, usecols=[\"שם משאב\", \"מזהה\"])\n",
    "    print(df.head())\n",
    "    return df"
   ]
  },
  {
   "cell_type": "code",
   "execution_count": 20,
   "metadata": {},
   "outputs": [
    {
     "name": "stdout",
     "output_type": "stream",
     "text": [
      "                                         שם משאב  \\\n",
      "0                               אטרקציות - עברית   \n",
      "1                     Cities In Israel - English   \n",
      "2                          רשימת מודדים ומתכננים   \n",
      "3                                  עמותות רשומות   \n",
      "4  נתוני הערכת גדילה של תלמידים בישראל לשנת 2016   \n",
      "\n",
      "                                   מזהה  \n",
      "0  07fc9ed5-1ac6-4752-a8c3-90781b3369ad  \n",
      "1  2999f194-8c11-4771-938f-d57ccd073f62  \n",
      "2  a8ca5203-7adc-4bc1-a0ed-3fd4eaa74dcc  \n",
      "3  be5b7935-3922-45d4-9638-08871b17ec95  \n",
      "4  2c181d7b-be3a-41be-a99a-7228eccb665b  \n"
     ]
    }
   ],
   "source": [
    "df = get_file_df()"
   ]
  },
  {
   "cell_type": "code",
   "execution_count": 21,
   "metadata": {
    "collapsed": true
   },
   "outputs": [],
   "source": [
    "def get_url(row):\n",
    "    prefix = \"https://data.gov.il/api/action/datastore_search?resource_id=\"\n",
    "    suffix = \"&limit=1000000\"\n",
    "    return ''.join([prefix, row[\"מזהה\"], suffix])"
   ]
  },
  {
   "cell_type": "code",
   "execution_count": 22,
   "metadata": {},
   "outputs": [
    {
     "name": "stdout",
     "output_type": "stream",
     "text": [
      "                                        resource  \\\n",
      "0                               אטרקציות - עברית   \n",
      "1                     Cities In Israel - English   \n",
      "2                          רשימת מודדים ומתכננים   \n",
      "3                                  עמותות רשומות   \n",
      "4  נתוני הערכת גדילה של תלמידים בישראל לשנת 2016   \n",
      "\n",
      "                                     id  \\\n",
      "0  07fc9ed5-1ac6-4752-a8c3-90781b3369ad   \n",
      "1  2999f194-8c11-4771-938f-d57ccd073f62   \n",
      "2  a8ca5203-7adc-4bc1-a0ed-3fd4eaa74dcc   \n",
      "3  be5b7935-3922-45d4-9638-08871b17ec95   \n",
      "4  2c181d7b-be3a-41be-a99a-7228eccb665b   \n",
      "\n",
      "                                                 url  \n",
      "0  https://data.gov.il/api/action/datastore_searc...  \n",
      "1  https://data.gov.il/api/action/datastore_searc...  \n",
      "2  https://data.gov.il/api/action/datastore_searc...  \n",
      "3  https://data.gov.il/api/action/datastore_searc...  \n",
      "4  https://data.gov.il/api/action/datastore_searc...  \n"
     ]
    }
   ],
   "source": [
    "df.loc[:, \"url\"] = df.apply(get_url, axis=1)\n",
    "df.rename(columns={\"שם משאב\":\"resource\",\n",
    "                  \"מזהה\":\"id\"},\n",
    "         inplace=True)\n",
    "print(df.head())\n",
    "out_path = \"../data/inputs/chosen_dataset_urls.csv\"\n",
    "df.to_csv(out_path, index=False)"
   ]
  },
  {
   "cell_type": "code",
   "execution_count": null,
   "metadata": {
    "collapsed": true
   },
   "outputs": [],
   "source": []
  }
 ],
 "metadata": {
  "kernelspec": {
   "display_name": "Python 3",
   "language": "python",
   "name": "python3"
  },
  "language_info": {
   "codemirror_mode": {
    "name": "ipython",
    "version": 3
   },
   "file_extension": ".py",
   "mimetype": "text/x-python",
   "name": "python",
   "nbconvert_exporter": "python",
   "pygments_lexer": "ipython3",
   "version": "3.7.0"
  }
 },
 "nbformat": 4,
 "nbformat_minor": 2
}
